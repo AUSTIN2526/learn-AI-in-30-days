{
 "cells": [
  {
   "cell_type": "code",
   "execution_count": 1,
   "id": "dab2db92",
   "metadata": {},
   "outputs": [],
   "source": [
    "from transformers import T5Tokenizer, T5ForConditionalGeneration"
   ]
  },
  {
   "cell_type": "code",
   "execution_count": 29,
   "id": "6351fffd",
   "metadata": {},
   "outputs": [],
   "source": [
    "model = T5ForConditionalGeneration.from_pretrained(\"../model/model_19/\")"
   ]
  },
  {
   "cell_type": "code",
   "execution_count": 69,
   "id": "91a74e93",
   "metadata": {},
   "outputs": [],
   "source": [
    "text = 'The warning Weights from XXX not initialized from pretrained model means that the weights of XXX do not come pretrained with the rest of the model. It is up to you to train those weights with a downstream fine-tuning task.'"
   ]
  },
  {
   "cell_type": "code",
   "execution_count": 70,
   "id": "055176bd",
   "metadata": {},
   "outputs": [],
   "source": [
    "input_ids = tokenizer.encode(text, return_tensors = 'pt')\n",
    "generated_ids = model.generate(input_ids, num_beams = 2, max_length = 400, repetition_penalty = 2.5, length_penalty = 1.0, early_stopping = True)\n",
    "preds = [tokenizer.decode(i, skip_special_tokens = True, clean_up_tokenization_spaces = True) for i in generated_ids]"
   ]
  },
  {
   "cell_type": "code",
   "execution_count": 71,
   "id": "cd4bd84f",
   "metadata": {},
   "outputs": [
    {
     "name": "stdout",
     "output_type": "stream",
     "text": [
      "The warning Weights from XXX not initialized from pretrained model means that the weights of XXX do not come pretrained with the rest of the model. It is up to you to train those weights with a downstream fine-tuning task.\n",
      "\n",
      "This is a bug that has been fixed in the latest version of Python.\n"
     ]
    }
   ],
   "source": [
    "print(text)\n",
    "print()\n",
    "print(preds[0][2:])"
   ]
  },
  {
   "cell_type": "code",
   "execution_count": null,
   "id": "a48764f1",
   "metadata": {},
   "outputs": [],
   "source": [
    "from rouge import Rouge\n",
    "rouge = Rouge()\n",
    "rouge.get_scores(text,preds[0][2:])"
   ]
  }
 ],
 "metadata": {
  "kernelspec": {
   "display_name": "Python 3 (ipykernel)",
   "language": "python",
   "name": "python3"
  },
  "language_info": {
   "codemirror_mode": {
    "name": "ipython",
    "version": 3
   },
   "file_extension": ".py",
   "mimetype": "text/x-python",
   "name": "python",
   "nbconvert_exporter": "python",
   "pygments_lexer": "ipython3",
   "version": "3.7.8"
  }
 },
 "nbformat": 4,
 "nbformat_minor": 5
}
