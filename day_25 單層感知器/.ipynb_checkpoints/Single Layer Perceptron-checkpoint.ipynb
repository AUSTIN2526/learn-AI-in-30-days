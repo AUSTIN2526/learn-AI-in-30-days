{
 "cells": [
  {
   "cell_type": "code",
   "execution_count": 1,
   "id": "3adfe7f3",
   "metadata": {},
   "outputs": [
    {
     "name": "stdout",
     "output_type": "stream",
     "text": [
      "[False, True, False, False]\n",
      "[True, True, False, True]\n"
     ]
    },
    {
     "name": "stderr",
     "output_type": "stream",
     "text": [
      "c:\\users\\austin\\appdata\\local\\programs\\python\\python37\\lib\\site-packages\\ipykernel_launcher.py:7: RuntimeWarning: invalid value encountered in double_scalars\n",
      "  import sys\n"
     ]
    }
   ],
   "source": [
    "import numpy as np\n",
    "import matplotlib.pyplot as plt\n",
    "import math\n",
    "\n",
    "class Perceptron:\n",
    "    def model(self, x):\n",
    "        self.b = np.dot(self.w, x) / (np.linalg.norm(self.w) * np.linalg.norm(x))\n",
    "        self.b = math.acos(self.b)\n",
    "        \n",
    "        return np.dot(self.w, x) >= self.b \n",
    "    \n",
    "    def fit(self, X, Y, epochs = 100, lr = 0.05):\n",
    "        self.w = np.random.uniform(-0.5, 0.5, X.shape[1])\n",
    "        self.result = {'acc':[],\n",
    "                       'w':[],\n",
    "                       'b':[],\n",
    "                       'epoch':[]\n",
    "        }\n",
    "\n",
    "        for i in range(epochs):\n",
    "            acc = 0\n",
    "            for x, y in zip(X, Y):\n",
    "                y_pred = self.model(x)\n",
    "                if y == 1 and not y_pred:\n",
    "                    self.w += lr * x\n",
    "                elif y == 0 and y_pred:\n",
    "                    self.w -= lr * x\n",
    "                else:\n",
    "                    acc+=1\n",
    "            self.result['epoch'].append(i)\n",
    "            self.result['acc'].append(acc/len(X))\n",
    "            self.result['w'].append(self.w)\n",
    "            self.result['b'].append(self.b)\n",
    "\n",
    "            #全部預測成功中斷程式\n",
    "            if acc / len(X) ==1:\n",
    "                break\n",
    "            \n",
    "                    \n",
    "    def show(self, title):\n",
    "        plt.plot(self.result['acc'])\n",
    "        plt.title(title)\n",
    "        plt.xlabel(\"Epoch\")\n",
    "        plt.ylabel(\"Accuracy\")\n",
    "        plt.ylim([0, 1])\n",
    "        plt.show()\n",
    "        for i in range(len(self.result['acc'])): \\\n",
    "            print(f\"Epoch:{self.result['epoch'][i]}\\\n",
    " Wight:{self.result['w'][i]}\\\n",
    " θ:{self.result['b'][i]}\\\n",
    " Acc:{self.result['acc'][i]}\\\n",
    "            \")\n",
    "           \n",
    "\n",
    "    def predict(self,X):\n",
    "        return [self.model(x) for x in X]\n",
    "    \n",
    "AND_model = Perceptron()\n",
    "OR_model =  Perceptron()\n",
    "XOR_model = Perceptron()\n",
    "\n",
    "AND_x_train = np.array([[0,0],[0,1],[1,0],[1,1]])\n",
    "AND_y_train = np.array([0,0,0,1])\n",
    "AND_x_test = np.array([[0,1],[1,1],[0,0],[1,0]])\n",
    "\n",
    "OR_x_train = np.array([[0,0],[0,1],[1,0],[1,1]])\n",
    "OR_y_train = np.array([0,1,1,1])\n",
    "OR_x_test = np.array([[0,1],[1,1],[0,0],[1,0]])\n",
    "\n",
    "AND_model.fit(AND_x_train, AND_y_train)\n",
    "OR_model.fit(OR_x_train, OR_y_train)\n",
    "\n",
    "\n",
    "print(AND_model.predict(AND_x_test))\n",
    "print(OR_model.predict(OR_x_test))"
   ]
  },
  {
   "cell_type": "code",
   "execution_count": null,
   "id": "46c9ef43",
   "metadata": {},
   "outputs": [],
   "source": []
  }
 ],
 "metadata": {
  "kernelspec": {
   "display_name": "Python 3 (ipykernel)",
   "language": "python",
   "name": "python3"
  },
  "language_info": {
   "codemirror_mode": {
    "name": "ipython",
    "version": 3
   },
   "file_extension": ".py",
   "mimetype": "text/x-python",
   "name": "python",
   "nbconvert_exporter": "python",
   "pygments_lexer": "ipython3",
   "version": "3.7.8"
  }
 },
 "nbformat": 4,
 "nbformat_minor": 5
}
