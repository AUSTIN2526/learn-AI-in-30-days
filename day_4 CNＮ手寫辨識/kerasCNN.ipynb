{
 "cells": [
  {
   "cell_type": "code",
   "execution_count": 1,
   "id": "898ca997",
   "metadata": {},
   "outputs": [
    {
     "name": "stdout",
     "output_type": "stream",
     "text": [
      "Epoch 1/10\n",
      "469/469 [==============================] - 8s 16ms/step - loss: 0.5085 - accuracy: 0.8507 - val_loss: 0.2004 - val_accuracy: 0.9471\n",
      "Epoch 2/10\n",
      "469/469 [==============================] - 8s 16ms/step - loss: 0.1668 - accuracy: 0.9535 - val_loss: 0.1262 - val_accuracy: 0.9637\n",
      "Epoch 3/10\n",
      "469/469 [==============================] - 8s 17ms/step - loss: 0.1169 - accuracy: 0.9661 - val_loss: 0.1027 - val_accuracy: 0.9679\n",
      "Epoch 4/10\n",
      "469/469 [==============================] - 8s 16ms/step - loss: 0.0946 - accuracy: 0.9722 - val_loss: 0.0924 - val_accuracy: 0.9717\n",
      "Epoch 5/10\n",
      "469/469 [==============================] - 8s 17ms/step - loss: 0.0810 - accuracy: 0.9758 - val_loss: 0.0742 - val_accuracy: 0.9764\n",
      "Epoch 6/10\n",
      "469/469 [==============================] - 8s 17ms/step - loss: 0.0699 - accuracy: 0.9795 - val_loss: 0.0718 - val_accuracy: 0.9766\n",
      "Epoch 7/10\n",
      "469/469 [==============================] - 8s 17ms/step - loss: 0.0618 - accuracy: 0.9810 - val_loss: 0.0669 - val_accuracy: 0.9787\n",
      "Epoch 8/10\n",
      "469/469 [==============================] - 8s 17ms/step - loss: 0.0555 - accuracy: 0.9833 - val_loss: 0.0668 - val_accuracy: 0.9790\n",
      "Epoch 9/10\n",
      "469/469 [==============================] - 8s 17ms/step - loss: 0.0503 - accuracy: 0.9849 - val_loss: 0.0622 - val_accuracy: 0.9807\n",
      "Epoch 10/10\n",
      "469/469 [==============================] - 8s 17ms/step - loss: 0.0465 - accuracy: 0.9860 - val_loss: 0.0605 - val_accuracy: 0.9805\n"
     ]
    }
   ],
   "source": [
    "import numpy as np \n",
    "import tensorflow.keras\n",
    "from tensorflow.keras.datasets import mnist\n",
    "from tensorflow.keras.models import Sequential,load_model,model_from_json\n",
    "from tensorflow.keras.layers import Conv2D, MaxPooling2D, Flatten, Dense\n",
    "from tensorflow.keras.utils import to_categorical \n",
    "from PIL import Image\n",
    "import matplotlib.pyplot as plt\n",
    "\n",
    "#讀取資料\n",
    "(x_train, y_train), (x_test, y_test) = mnist.load_data()\n",
    "#CNN的輸入為(長,寬,色彩) 1代表黑白 3代表彩色\n",
    "x_train = x_train.reshape(60000, 28, 28, 1)\n",
    "x_test = x_test.reshape(10000, 28, 28, 1)\n",
    "#正規化圖像\n",
    "x_train = x_train/255\n",
    "x_test = x_test/255\n",
    "#將label轉換為label\n",
    "y_train = to_categorical(y_train)\n",
    "y_test = to_categorical(y_test)\n",
    "\n",
    "#建構網路\n",
    "model = Sequential()\n",
    "#CNN輸入為28*28*1\n",
    "model.add(Conv2D(32, kernel_size = 3, input_shape = (28,28,1),padding=\"same\", activation = 'relu'))\n",
    "#池化層\n",
    "model.add(MaxPooling2D(pool_size = 2))\n",
    "#攤平\n",
    "model.add(Flatten())\n",
    "#全連接層\n",
    "model.add(Dense(16, activation = 'relu'))\n",
    "#輸出層\n",
    "model.add(Dense(10, activation = 'softmax'))\n",
    "\n",
    "model.compile(loss='categorical_crossentropy', optimizer='adam', metrics=['accuracy'])\n",
    "history = model.fit(x_train, y_train,\n",
    "                    batch_size=128,\n",
    "                    epochs=10,\n",
    "                    verbose=1,\n",
    "                    validation_data=(x_test, y_test))\n"
   ]
  },
  {
   "cell_type": "code",
   "execution_count": null,
   "id": "e387e09b",
   "metadata": {},
   "outputs": [],
   "source": [
    "plt.plot(history.history['loss'])\n",
    "plt.plot(history.history['val_loss'])\n",
    "plt.title('Model loss')\n",
    "plt.ylabel('Loss')\n",
    "plt.xlabel('Epoch')\n",
    "plt.legend(['Train', 'Test'], loc='upper left')\n",
    "plt.show()"
   ]
  },
  {
   "cell_type": "code",
   "execution_count": 4,
   "id": "3748cea9",
   "metadata": {},
   "outputs": [],
   "source": [
    "#儲存model(包含網路)\n",
    "model.save('model.h5')\n",
    "#讀取整個model\n",
    "model = load_model('model.h5')"
   ]
  },
  {
   "cell_type": "code",
   "execution_count": 5,
   "id": "3906400b",
   "metadata": {},
   "outputs": [],
   "source": [
    "#只儲存權重\n",
    "model.save_weights('model_weights.h5')\n",
    "#需重新定義網路\n",
    "model = Sequential()\n",
    "model.add(Conv2D(32, kernel_size = 3, input_shape = (28,28,1),padding=\"same\", activation = 'relu'))\n",
    "model.add(MaxPooling2D(pool_size = 2))\n",
    "model.add(Flatten())\n",
    "model.add(Dense(16, activation = 'relu'))\n",
    "model.add(Dense(10, activation = 'softmax'))\n",
    "#讀取權重\n",
    "model.load_weights('model_weights.h5')"
   ]
  },
  {
   "cell_type": "code",
   "execution_count": null,
   "id": "311f3eb2",
   "metadata": {},
   "outputs": [],
   "source": []
  }
 ],
 "metadata": {
  "kernelspec": {
   "display_name": "Python 3 (ipykernel)",
   "language": "python",
   "name": "python3"
  },
  "language_info": {
   "codemirror_mode": {
    "name": "ipython",
    "version": 3
   },
   "file_extension": ".py",
   "mimetype": "text/x-python",
   "name": "python",
   "nbconvert_exporter": "python",
   "pygments_lexer": "ipython3",
   "version": "3.7.8"
  }
 },
 "nbformat": 4,
 "nbformat_minor": 5
}
