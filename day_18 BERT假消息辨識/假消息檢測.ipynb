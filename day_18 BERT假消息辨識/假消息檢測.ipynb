{
 "cells": [
  {
   "cell_type": "code",
   "execution_count": 1,
   "id": "f681d87a",
   "metadata": {},
   "outputs": [],
   "source": [
    "from transformers import BertTokenizer, BertForSequenceClassification\n",
    "from torch.utils.data import Dataset,DataLoader\n",
    "from tqdm.auto import tqdm\n",
    "import torch.utils.data as data\n",
    "import pandas as pd\n",
    "import torch\n",
    "import transformers"
   ]
  },
  {
   "cell_type": "code",
   "execution_count": null,
   "id": "1a8978fb",
   "metadata": {},
   "outputs": [],
   "source": [
    "class News(Dataset):\n",
    "    def __init__(self, inputs, targets, tokenizer, max_len=512):\n",
    "        t = tokenizer(inputs)\n",
    "        self.data = []\n",
    "        for ids,sep,mask,label in zip(t['input_ids'], t['token_type_ids'], t['attention_mask'], targets):         \n",
    "            self.data.append({'input_ids':torch.tensor(ids[0:512])\n",
    "                              ,'token_type_ids':torch.tensor(sep[0:512])\n",
    "                              ,'attention_mask':torch.tensor(mask[0:512])\n",
    "                              ,'labels':torch.tensor(label)})\n",
    "    def __getitem__(self,index):\n",
    "       \n",
    "        return self.data[index]\n",
    "\n",
    "    def __len__(self):\n",
    "        return len(self.data)\n",
    "    \n",
    "tokenizer = BertTokenizer.from_pretrained(\"ydshieh/bert-base-uncased-yelp-polarity\")\n",
    "model = BertForSequenceClassification.from_pretrained(\"textattack/bert-base-uncased-yelp-polarity\")\n",
    "\n",
    "df_fake = pd.read_csv('Fake.csv')[:100]\n",
    "df_real = pd.read_csv('True.csv')[:100]\n",
    "\n",
    "inputs = df_fake['text'].tolist() + df_real['text'].tolist()\n",
    "targets = len(df_fake['text'].tolist())*[0]+len(df_real['text'].tolist())*[1]\n",
    "dataset = News(inputs, targets, tokenizer)\n",
    "\n",
    "train_set_size = int(len(dataset) * 0.8)\n",
    "test_set_size = len(dataset) - train_set_size\n",
    "train_set, test_set = data.random_split(dataset, [train_set_size, test_set_size])"
   ]
  },
  {
   "cell_type": "code",
   "execution_count": null,
   "id": "57e40ea0",
   "metadata": {},
   "outputs": [],
   "source": [
    "train_loader = DataLoader(train_set,batch_size = 1,shuffle = True)\n",
    "test_loader = DataLoader(test_set, batch_size = 1, shuffle = True)                          "
   ]
  },
  {
   "cell_type": "code",
   "execution_count": null,
   "id": "53883119",
   "metadata": {
    "scrolled": false
   },
   "outputs": [],
   "source": [
    "model.cuda()\n",
    "optimizer = torch.optim.AdamW(params = model.parameters(), lr = 1e-4)\n",
    "for epoch in range(20):\n",
    "    model.train()\n",
    "    train = tqdm(train_loader)\n",
    "    for data in train:\n",
    "        for key in data.keys():\n",
    "            data[key] = data[key].cuda()\n",
    "        outputs = model(**data)\n",
    "        loss = outputs.loss\n",
    "        train.set_description(f'Epoch {epoch}')\n",
    "        train.set_postfix({'Loss': loss.item()})\n",
    "        optimizer.zero_grad()\n",
    "        loss.backward()\n",
    "        optimizer.step()\n",
    "        \n",
    "    \n",
    "    model.eval()\n",
    "    test = tqdm(test_loader)\n",
    "    correct = 0\n",
    "    for data in test:\n",
    "        for key in data.keys():\n",
    "            data[key] = data[key].cuda()\n",
    "        outputs = model(**data)\n",
    "        _,predict_label = torch.max(outputs.logits,1)\n",
    "        correct += (predict_label==data['labels']).sum()\n",
    "        test.set_description(f'Epoch {epoch}')\n",
    "        test.set_postfix({'acc':'{:.4f}'.format(correct / len(test_set) * 100)})\n",
    "    model.save_pretrained('model_{}'.format(epoch))"
   ]
  },
  {
   "cell_type": "code",
   "execution_count": null,
   "id": "93a53afe",
   "metadata": {},
   "outputs": [],
   "source": []
  }
 ],
 "metadata": {
  "kernelspec": {
   "display_name": "Python 3 (ipykernel)",
   "language": "python",
   "name": "python3"
  },
  "language_info": {
   "codemirror_mode": {
    "name": "ipython",
    "version": 3
   },
   "file_extension": ".py",
   "mimetype": "text/x-python",
   "name": "python",
   "nbconvert_exporter": "python",
   "pygments_lexer": "ipython3",
   "version": "3.7.8"
  }
 },
 "nbformat": 4,
 "nbformat_minor": 5
}
