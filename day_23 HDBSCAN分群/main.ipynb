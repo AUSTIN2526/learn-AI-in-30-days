{
 "cells": [
  {
   "cell_type": "code",
   "execution_count": 1,
   "id": "7ccc3d61",
   "metadata": {},
   "outputs": [],
   "source": [
    "import numpy as np\n",
    "import matplotlib.pyplot as plt\n",
    "import math\n",
    "\n",
    "class Perceptron:\n",
    "    def model(self, x):\n",
    "        self.b = np.dot(self.w, x) / (np.linalg.norm(self.w) * np.linalg.norm(x))\n",
    "        self.b = math.acos(self.b)\n",
    "        \n",
    "        return np.dot(self.w, x) + self.b > 0  \n",
    "    \n",
    "    def fit(self, X, Y, epochs = 100, lr = 0.05):\n",
    "        self.w = np.random.uniform(-0.5, 0.5, X.shape[1])\n",
    "        self.result = {'acc':[],\n",
    "                       'w':[],\n",
    "                       'b':[],\n",
    "                       'epoch':[]\n",
    "        }\n",
    "\n",
    "        for i in range(epochs):\n",
    "            acc = 0\n",
    "            for x, y in zip(X, Y):\n",
    "                y_pred = self.model(x)\n",
    "                if y == 1 and not y_pred:\n",
    "                    self.w += lr * x\n",
    "                elif y == 0 and y_pred:\n",
    "                    self.w -= lr * x\n",
    "                else:\n",
    "                    acc+=1\n",
    "            self.result['epoch'].append(i)\n",
    "            self.result['acc'].append(acc/len(X))\n",
    "            self.result['w'].append(self.w)\n",
    "            self.result['b'].append(self.b)\n",
    "\n",
    "            #全部預測成功中斷程式\n",
    "            if acc / len(X) ==1:\n",
    "                break\n",
    "            \n",
    "                    \n",
    "    def show(self, title):\n",
    "        plt.plot(self.result['acc'])\n",
    "        plt.title(title)\n",
    "        plt.xlabel(\"Epoch\")\n",
    "        plt.ylabel(\"Accuracy\")\n",
    "        plt.ylim([0, 1])\n",
    "        plt.show()\n",
    "        for i in range(len(self.result['acc'])): \\\n",
    "            print(f\"Epoch:{self.result['epoch'][i]}\\\n",
    " Wight:{self.result['w'][i]}\\\n",
    " θ:{self.result['b'][i]}\\\n",
    " Acc:{self.result['acc'][i]}\\\n",
    "            \")\n",
    "           \n",
    "\n",
    "    def predict(self,X):\n",
    "        return [self.model(x) for x in X]\n",
    "    "
   ]
  },
  {
   "cell_type": "code",
   "execution_count": 5,
   "id": "fcad5493",
   "metadata": {},
   "outputs": [
    {
     "name": "stderr",
     "output_type": "stream",
     "text": [
      "c:\\users\\austin\\appdata\\local\\programs\\python\\python37\\lib\\site-packages\\ipykernel_launcher.py:7: RuntimeWarning: invalid value encountered in double_scalars\n",
      "  import sys\n"
     ]
    }
   ],
   "source": [
    "AND_model = Perceptron()\n",
    "OR_model =  Perceptron()\n",
    "XOR_model = Perceptron()\n",
    "\n",
    "AND_x_train = np.array([[0,0],[0,1],[1,0],[1,1]])\n",
    "AND_y_train = np.array([0,0,0,1])\n",
    "AND_x_test = np.array([[0,1],[1,1],[0,0],[1,0]])\n",
    "\n",
    "OR_x_train = np.array([[0,0],[0,1],[1,0],[1,1]])\n",
    "OR_y_train = np.array([0,1,1,1])\n",
    "OR_x_test = np.array([[0,1],[1,1],[0,0],[1,0]])\n",
    "\n",
    "\n",
    "XOR_x_train = np.array([[0,0],[0,1],[1,0],[1,1]])\n",
    "XOR_y_train = np.array([0,1,1,0])\n",
    "XOR_x_test = np.array([[0,1],[1,1],[0,0],[1,0]])\n",
    "\n",
    "\n",
    "AND_model.fit(AND_x_train, AND_y_train,lr=0.04)\n",
    "OR_model.fit(OR_x_train, OR_y_train)\n",
    "XOR_model.fit(XOR_x_train, XOR_y_train)"
   ]
  },
  {
   "cell_type": "code",
   "execution_count": 6,
   "id": "f9a3b7ba",
   "metadata": {
    "scrolled": false
   },
   "outputs": [
    {
     "data": {
      "image/png": "[encoded data removed]",
      "text/plain": [
       "<Figure size 640x480 with 1 Axes>"
      ]
     },
     "metadata": {},
     "output_type": "display_data"
    },
    {
     "name": "stdout",
     "output_type": "stream",
     "text": [
      "Epoch:0 Wight:[-1.46929042 -1.6082609 ] θ:0.18028949539251785 Acc:0.5            \n",
      "Epoch:1 Wight:[-1.46929042 -1.6082609 ] θ:0.2008883478592444 Acc:0.5            \n",
      "Epoch:2 Wight:[-1.46929042 -1.6082609 ] θ:0.2267103639109028 Acc:0.5            \n",
      "Epoch:3 Wight:[-1.46929042 -1.6082609 ] θ:0.2599783174255903 Acc:0.5            \n",
      "Epoch:4 Wight:[-1.46929042 -1.6082609 ] θ:0.3043363898793158 Acc:0.5            \n",
      "Epoch:5 Wight:[-1.46929042 -1.6082609 ] θ:0.36613304166591387 Acc:0.5            \n",
      "Epoch:6 Wight:[-1.46929042 -1.6082609 ] θ:0.4572434667929276 Acc:0.5            \n",
      "Epoch:7 Wight:[-1.46929042 -1.6082609 ] θ:0.6015725840248679 Acc:0.5            \n",
      "Epoch:8 Wight:[-1.46929042 -1.6082609 ] θ:0.8485146209228719 Acc:0.5            \n",
      "Epoch:9 Wight:[-1.46929042 -1.6082609 ] θ:1.2743460999157104 Acc:0.5            \n",
      "Epoch:10 Wight:[-1.46929042 -1.6082609 ] θ:1.834704628286709 Acc:0.5            \n",
      "Epoch:11 Wight:[-1.46929042 -1.6082609 ] θ:2.272889368303299 Acc:0.5            \n",
      "Epoch:12 Wight:[-1.46929042 -1.6082609 ] θ:2.528544862099782 Acc:0.5            \n",
      "Epoch:13 Wight:[-1.46929042 -1.6082609 ] θ:2.6773836871162535 Acc:0.5            \n",
      "Epoch:14 Wight:[-1.46929042 -1.6082609 ] θ:2.770889082281774 Acc:0.5            \n",
      "Epoch:15 Wight:[-1.46929042 -1.6082609 ] θ:2.8340596285668616 Acc:0.5            \n",
      "Epoch:16 Wight:[-1.46929042 -1.6082609 ] θ:2.8792651112849117 Acc:0.5            \n",
      "Epoch:17 Wight:[-1.46929042 -1.6082609 ] θ:2.9130879982454907 Acc:0.5            \n",
      "Epoch:18 Wight:[-1.46929042 -1.6082609 ] θ:2.939291439609513 Acc:0.5            \n",
      "Epoch:19 Wight:[-1.46929042 -1.6082609 ] θ:2.9601629678444015 Acc:0.5            \n",
      "Epoch:20 Wight:[-1.46929042 -1.6082609 ] θ:2.977165952025237 Acc:0.5            \n",
      "Epoch:21 Wight:[-1.46929042 -1.6082609 ] θ:2.991277111268262 Acc:0.5            \n",
      "Epoch:22 Wight:[-1.46929042 -1.6082609 ] θ:3.0031719404833357 Acc:0.5            \n",
      "Epoch:23 Wight:[-1.46929042 -1.6082609 ] θ:3.013331870858698 Acc:0.5            \n",
      "Epoch:24 Wight:[-1.46929042 -1.6082609 ] θ:3.022108956052774 Acc:0.5            \n",
      "Epoch:25 Wight:[-1.46929042 -1.6082609 ] θ:3.0297664152112214 Acc:0.5            \n",
      "Epoch:26 Wight:[-1.46929042 -1.6082609 ] θ:3.0365048874282703 Acc:0.5            \n",
      "Epoch:27 Wight:[-1.46929042 -1.6082609 ] θ:3.042479925949716 Acc:0.5            \n",
      "Epoch:28 Wight:[-1.46929042 -1.6082609 ] θ:3.0478139520332053 Acc:0.5            \n",
      "Epoch:29 Wight:[-1.46929042 -1.6082609 ] θ:3.0526046072082686 Acc:0.5            \n",
      "Epoch:30 Wight:[-1.46929042 -1.6082609 ] θ:3.056930706252346 Acc:0.5            \n",
      "Epoch:31 Wight:[-1.46929042 -1.6082609 ] θ:3.060856556437696 Acc:0.5            \n",
      "Epoch:32 Wight:[-1.46929042 -1.6082609 ] θ:3.0644351421933056 Acc:0.5            \n",
      "Epoch:33 Wight:[-1.46929042 -1.6082609 ] θ:3.0677105076601685 Acc:0.5            \n",
      "Epoch:34 Wight:[-1.46929042 -1.6082609 ] θ:3.0707195629382626 Acc:0.5            \n",
      "Epoch:35 Wight:[-1.46929042 -1.6082609 ] θ:3.0734934701037075 Acc:0.5            \n",
      "Epoch:36 Wight:[-1.46929042 -1.6082609 ] θ:3.07605871863654 Acc:0.5            \n",
      "Epoch:37 Wight:[-1.46929042 -1.6082609 ] θ:3.0784379684264285 Acc:0.5            \n",
      "Epoch:38 Wight:[-1.46929042 -1.6082609 ] θ:3.0806507168491057 Acc:0.5            \n",
      "Epoch:39 Wight:[-1.46929042 -1.6082609 ] θ:3.0827138312586904 Acc:0.5            \n",
      "Epoch:40 Wight:[-1.46929042 -1.6082609 ] θ:3.084641977509096 Acc:0.5            \n",
      "Epoch:41 Wight:[-1.46929042 -1.6082609 ] θ:3.086447967418363 Acc:0.5            \n",
      "Epoch:42 Wight:[-1.46929042 -1.6082609 ] θ:3.0881430424999707 Acc:0.5            \n",
      "Epoch:43 Wight:[-1.46929042 -1.6082609 ] θ:3.0897371071828146 Acc:0.5            \n",
      "Epoch:44 Wight:[-1.46929042 -1.6082609 ] θ:3.0912389216998295 Acc:0.5            \n",
      "Epoch:45 Wight:[-1.46929042 -1.6082609 ] θ:3.092656262547798 Acc:0.5            \n",
      "Epoch:46 Wight:[-1.46929042 -1.6082609 ] θ:3.0939960567008855 Acc:0.5            \n",
      "Epoch:47 Wight:[-1.46929042 -1.6082609 ] θ:3.0952644944500847 Acc:0.5            \n",
      "Epoch:48 Wight:[-1.46929042 -1.6082609 ] θ:3.0964671247343336 Acc:0.5            \n",
      "Epoch:49 Wight:[-1.46929042 -1.6082609 ] θ:3.0976089360508903 Acc:0.25            \n",
      "Epoch:50 Wight:[-1.46929042 -1.6082609 ] θ:3.0976089360508903 Acc:0.25            \n",
      "Epoch:51 Wight:[-1.46929042 -1.6082609 ] θ:3.0976089360508903 Acc:0.25            \n",
      "Epoch:52 Wight:[-1.46929042 -1.6082609 ] θ:3.0976089360508903 Acc:0.25            \n",
      "Epoch:53 Wight:[-1.46929042 -1.6082609 ] θ:3.0976089360508903 Acc:0.25            \n",
      "Epoch:54 Wight:[-1.46929042 -1.6082609 ] θ:3.0976089360508903 Acc:0.25            \n",
      "Epoch:55 Wight:[-1.46929042 -1.6082609 ] θ:3.0976089360508903 Acc:0.25            \n",
      "Epoch:56 Wight:[-1.46929042 -1.6082609 ] θ:3.0976089360508903 Acc:0.25            \n",
      "Epoch:57 Wight:[-1.46929042 -1.6082609 ] θ:3.0976089360508903 Acc:0.25            \n",
      "Epoch:58 Wight:[-1.46929042 -1.6082609 ] θ:3.0976089360508903 Acc:0.25            \n",
      "Epoch:59 Wight:[-1.46929042 -1.6082609 ] θ:3.0976089360508903 Acc:0.25            \n",
      "Epoch:60 Wight:[-1.46929042 -1.6082609 ] θ:3.0976089360508903 Acc:0.25            \n",
      "Epoch:61 Wight:[-1.46929042 -1.6082609 ] θ:3.0976089360508903 Acc:0.25            \n",
      "Epoch:62 Wight:[-1.46929042 -1.6082609 ] θ:3.0976089360508903 Acc:0.25            \n",
      "Epoch:63 Wight:[-1.46929042 -1.6082609 ] θ:3.0976089360508903 Acc:0.25            \n",
      "Epoch:64 Wight:[-1.46929042 -1.6082609 ] θ:3.0976089360508903 Acc:0.25            \n",
      "Epoch:65 Wight:[-1.46929042 -1.6082609 ] θ:3.0976089360508903 Acc:0.25            \n",
      "Epoch:66 Wight:[-1.46929042 -1.6082609 ] θ:3.0976089360508903 Acc:0.25            \n",
      "Epoch:67 Wight:[-1.46929042 -1.6082609 ] θ:3.0976089360508903 Acc:0.25            \n",
      "Epoch:68 Wight:[-1.46929042 -1.6082609 ] θ:3.0976089360508903 Acc:0.25            \n",
      "Epoch:69 Wight:[-1.46929042 -1.6082609 ] θ:3.0976089360508903 Acc:0.25            \n",
      "Epoch:70 Wight:[-1.46929042 -1.6082609 ] θ:3.0976089360508903 Acc:0.25            \n",
      "Epoch:71 Wight:[-1.46929042 -1.6082609 ] θ:3.0976089360508903 Acc:0.25            \n",
      "Epoch:72 Wight:[-1.46929042 -1.6082609 ] θ:3.0976089360508903 Acc:0.25            \n",
      "Epoch:73 Wight:[-1.46929042 -1.6082609 ] θ:3.0976089360508903 Acc:0.25            \n",
      "Epoch:74 Wight:[-1.46929042 -1.6082609 ] θ:3.0976089360508903 Acc:0.25            \n",
      "Epoch:75 Wight:[-1.46929042 -1.6082609 ] θ:3.0976089360508903 Acc:0.25            \n",
      "Epoch:76 Wight:[-1.46929042 -1.6082609 ] θ:3.0976089360508903 Acc:0.25            \n",
      "Epoch:77 Wight:[-1.46929042 -1.6082609 ] θ:3.0976089360508903 Acc:0.25            \n",
      "Epoch:78 Wight:[-1.46929042 -1.6082609 ] θ:3.0976089360508903 Acc:0.25            \n",
      "Epoch:79 Wight:[-1.46929042 -1.6082609 ] θ:3.0976089360508903 Acc:0.25            \n",
      "Epoch:80 Wight:[-1.46929042 -1.6082609 ] θ:3.0976089360508903 Acc:0.25            \n",
      "Epoch:81 Wight:[-1.46929042 -1.6082609 ] θ:3.0976089360508903 Acc:0.25            \n",
      "Epoch:82 Wight:[-1.46929042 -1.6082609 ] θ:3.0976089360508903 Acc:0.25            \n",
      "Epoch:83 Wight:[-1.46929042 -1.6082609 ] θ:3.0976089360508903 Acc:0.25            \n",
      "Epoch:84 Wight:[-1.46929042 -1.6082609 ] θ:3.0976089360508903 Acc:0.25            \n",
      "Epoch:85 Wight:[-1.46929042 -1.6082609 ] θ:3.0976089360508903 Acc:0.25            \n",
      "Epoch:86 Wight:[-1.46929042 -1.6082609 ] θ:3.0976089360508903 Acc:0.25            \n",
      "Epoch:87 Wight:[-1.46929042 -1.6082609 ] θ:3.0976089360508903 Acc:0.25            \n",
      "Epoch:88 Wight:[-1.46929042 -1.6082609 ] θ:3.0976089360508903 Acc:0.25            \n",
      "Epoch:89 Wight:[-1.46929042 -1.6082609 ] θ:3.0976089360508903 Acc:0.25            \n",
      "Epoch:90 Wight:[-1.46929042 -1.6082609 ] θ:3.0976089360508903 Acc:0.25            \n",
      "Epoch:91 Wight:[-1.46929042 -1.6082609 ] θ:3.0976089360508903 Acc:0.25            \n",
      "Epoch:92 Wight:[-1.46929042 -1.6082609 ] θ:3.0976089360508903 Acc:0.25            \n",
      "Epoch:93 Wight:[-1.46929042 -1.6082609 ] θ:3.0976089360508903 Acc:0.25            \n",
      "Epoch:94 Wight:[-1.46929042 -1.6082609 ] θ:3.0976089360508903 Acc:0.25            \n",
      "Epoch:95 Wight:[-1.46929042 -1.6082609 ] θ:3.0976089360508903 Acc:0.25            \n",
      "Epoch:96 Wight:[-1.46929042 -1.6082609 ] θ:3.0976089360508903 Acc:0.25            \n",
      "Epoch:97 Wight:[-1.46929042 -1.6082609 ] θ:3.0976089360508903 Acc:0.25            \n",
      "Epoch:98 Wight:[-1.46929042 -1.6082609 ] θ:3.0976089360508903 Acc:0.25            \n",
      "Epoch:99 Wight:[-1.46929042 -1.6082609 ] θ:3.0976089360508903 Acc:0.25            \n"
     ]
    },
    {
     "data": {
      "image/png": "[encoded data removed]",
      "text/plain": [
       "<Figure size 640x480 with 1 Axes>"
      ]
     },
     "metadata": {},
     "output_type": "display_data"
    },
    {
     "name": "stdout",
     "output_type": "stream",
     "text": [
      "Epoch:0 Wight:[ 0.2583063  -0.37499031] θ:1.7530014564198781 Acc:1.0            \n"
     ]
    },
    {
     "data": {
      "image/png": "[encoded data removed]",
      "text/plain": [
       "<Figure size 640x480 with 1 Axes>"
      ]
     },
     "metadata": {},
     "output_type": "display_data"
    },
    {
     "name": "stdout",
     "output_type": "stream",
     "text": [
      "Epoch:0 Wight:[-1.73155634 -1.39649017] θ:2.6515014165825037 Acc:0.75            \n",
      "Epoch:1 Wight:[-1.73155634 -1.39649017] θ:2.7102671294186416 Acc:0.75            \n",
      "Epoch:2 Wight:[-1.73155634 -1.39649017] θ:2.7570870518844965 Acc:0.75            \n",
      "Epoch:3 Wight:[-1.73155634 -1.39649017] θ:2.795112639141125 Acc:0.75            \n",
      "Epoch:4 Wight:[-1.73155634 -1.39649017] θ:2.8265242533659394 Acc:0.75            \n",
      "Epoch:5 Wight:[-1.73155634 -1.39649017] θ:2.852860803274973 Acc:0.75            \n",
      "Epoch:6 Wight:[-1.73155634 -1.39649017] θ:2.8752311673170134 Acc:0.75            \n",
      "Epoch:7 Wight:[-1.73155634 -1.39649017] θ:2.8944504338063024 Acc:0.75            \n",
      "Epoch:8 Wight:[-1.73155634 -1.39649017] θ:2.911128957465854 Acc:0.75            \n",
      "Epoch:9 Wight:[-1.73155634 -1.39649017] θ:2.9257316289260586 Acc:0.75            \n",
      "Epoch:10 Wight:[-1.73155634 -1.39649017] θ:2.9386180753497544 Acc:0.75            \n",
      "Epoch:11 Wight:[-1.73155634 -1.39649017] θ:2.9500704421072284 Acc:0.75            \n",
      "Epoch:12 Wight:[-1.73155634 -1.39649017] θ:2.96031293827749 Acc:0.75            \n",
      "Epoch:13 Wight:[-1.73155634 -1.39649017] θ:2.969525820696799 Acc:0.75            \n",
      "Epoch:14 Wight:[-1.73155634 -1.39649017] θ:2.9778555569452627 Acc:0.75            \n",
      "Epoch:15 Wight:[-1.73155634 -1.39649017] θ:2.9854223195111596 Acc:0.75            \n",
      "Epoch:16 Wight:[-1.73155634 -1.39649017] θ:2.992325586899261 Acc:0.75            \n",
      "Epoch:17 Wight:[-1.73155634 -1.39649017] θ:2.9986483824142183 Acc:0.75            \n",
      "Epoch:18 Wight:[-1.73155634 -1.39649017] θ:3.004460519253341 Acc:0.75            \n",
      "Epoch:19 Wight:[-1.73155634 -1.39649017] θ:3.009821111629371 Acc:0.75            \n",
      "Epoch:20 Wight:[-1.73155634 -1.39649017] θ:3.014780537373202 Acc:0.75            \n",
      "Epoch:21 Wight:[-1.73155634 -1.39649017] θ:3.019381986105488 Acc:0.75            \n",
      "Epoch:22 Wight:[-1.73155634 -1.39649017] θ:3.023662691075929 Acc:0.75            \n",
      "Epoch:23 Wight:[-1.73155634 -1.39649017] θ:3.027654917233848 Acc:0.75            \n",
      "Epoch:24 Wight:[-1.73155634 -1.39649017] θ:3.031386759763064 Acc:0.75            \n",
      "Epoch:25 Wight:[-1.73155634 -1.39649017] θ:3.034882794009286 Acc:1.0            \n"
     ]
    }
   ],
   "source": [
    "AND_model.show('AND')\n",
    "OR_model.show('OR')\n",
    "XOR_model.show('XOR')"
   ]
  },
  {
   "cell_type": "code",
   "execution_count": 7,
   "id": "381eee42",
   "metadata": {},
   "outputs": [
    {
     "name": "stdout",
     "output_type": "stream",
     "text": [
      "[True, True, False, True]\n",
      "[True, True, False, True]\n",
      "[True, False, False, True]\n"
     ]
    },
    {
     "name": "stderr",
     "output_type": "stream",
     "text": [
      "c:\\users\\austin\\appdata\\local\\programs\\python\\python37\\lib\\site-packages\\ipykernel_launcher.py:7: RuntimeWarning: invalid value encountered in double_scalars\n",
      "  import sys\n"
     ]
    }
   ],
   "source": [
    "#input 00 11 00 10\n",
    "print(AND_model.predict(AND_x_test))\n",
    "print(OR_model.predict(OR_x_test))\n",
    "\n",
    "#Error\n",
    "print(XOR_model.predict(XOR_x_test))"
   ]
  },
  {
   "cell_type": "code",
   "execution_count": null,
   "id": "e85ecfaa",
   "metadata": {},
   "outputs": [],
   "source": []
  },
  {
   "cell_type": "code",
   "execution_count": null,
   "id": "a400cc63",
   "metadata": {},
   "outputs": [],
   "source": []
  }
 ],
 "metadata": {
  "kernelspec": {
   "display_name": "Python 3 (ipykernel)",
   "language": "python",
   "name": "python3"
  },
  "language_info": {
   "codemirror_mode": {
    "name": "ipython",
    "version": 3
   },
   "file_extension": ".py",
   "mimetype": "text/x-python",
   "name": "python",
   "nbconvert_exporter": "python",
   "pygments_lexer": "ipython3",
   "version": "3.7.8"
  }
 },
 "nbformat": 4,
 "nbformat_minor": 5
}
